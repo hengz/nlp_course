{
 "cells": [
  {
   "cell_type": "code",
   "execution_count": 13,
   "metadata": {
    "ExecuteTime": {
     "end_time": "2019-07-22T15:59:37.972610Z",
     "start_time": "2019-07-22T15:59:37.969637Z"
    }
   },
   "outputs": [],
   "source": [
    "coordination_source = \"\"\"\n",
    "{name:'兰州', geoCoord:[103.73, 36.03]},\n",
    "{name:'嘉峪关', geoCoord:[98.17, 39.47]},\n",
    "{name:'西宁', geoCoord:[101.74, 36.56]},\n",
    "{name:'成都', geoCoord:[104.06, 30.67]},\n",
    "{name:'石家庄', geoCoord:[114.48, 38.03]},\n",
    "{name:'拉萨', geoCoord:[102.73, 25.04]},\n",
    "{name:'贵阳', geoCoord:[106.71, 26.57]},\n",
    "{name:'武汉', geoCoord:[114.31, 30.52]},\n",
    "{name:'郑州', geoCoord:[113.65, 34.76]},\n",
    "{name:'济南', geoCoord:[117, 36.65]},\n",
    "{name:'南京', geoCoord:[118.78, 32.04]},\n",
    "{name:'合肥', geoCoord:[117.27, 31.86]},\n",
    "{name:'杭州', geoCoord:[120.19, 30.26]},\n",
    "{name:'南昌', geoCoord:[115.89, 28.68]},\n",
    "{name:'福州', geoCoord:[119.3, 26.08]},\n",
    "{name:'广州', geoCoord:[113.23, 23.16]},\n",
    "{name:'长沙', geoCoord:[113, 28.21]},\n",
    "//{name:'海口', geoCoord:[110.35, 20.02]},\n",
    "{name:'沈阳', geoCoord:[123.38, 41.8]},\n",
    "{name:'长春', geoCoord:[125.35, 43.88]},\n",
    "{name:'哈尔滨', geoCoord:[126.63, 45.75]},\n",
    "{name:'太原', geoCoord:[112.53, 37.87]},\n",
    "{name:'西安', geoCoord:[108.95, 34.27]},\n",
    "//{name:'台湾', geoCoord:[121.30, 25.03]},\n",
    "{name:'北京', geoCoord:[116.46, 39.92]},\n",
    "{name:'上海', geoCoord:[121.48, 31.22]},\n",
    "{name:'重庆', geoCoord:[106.54, 29.59]},\n",
    "{name:'天津', geoCoord:[117.2, 39.13]},\n",
    "{name:'呼和浩特', geoCoord:[111.65, 40.82]},\n",
    "{name:'南宁', geoCoord:[108.33, 22.84]},\n",
    "//{name:'西藏', geoCoord:[91.11, 29.97]},\n",
    "{name:'银川', geoCoord:[106.27, 38.47]},\n",
    "{name:'乌鲁木齐', geoCoord:[87.68, 43.77]},\n",
    "{name:'香港', geoCoord:[114.17, 22.28]},\n",
    "{name:'澳门', geoCoord:[113.54, 22.19]}\n",
    "\"\"\""
   ]
  },
  {
   "cell_type": "code",
   "execution_count": 1,
   "metadata": {
    "ExecuteTime": {
     "end_time": "2019-07-22T15:51:52.195027Z",
     "start_time": "2019-07-22T15:51:52.193026Z"
    }
   },
   "outputs": [],
   "source": [
    "city_location = {\n",
    "    '香港':(114.15, 22.23)\n",
    "}"
   ]
  },
  {
   "cell_type": "code",
   "execution_count": 2,
   "metadata": {
    "ExecuteTime": {
     "end_time": "2019-07-22T15:51:53.134050Z",
     "start_time": "2019-07-22T15:51:53.131078Z"
    }
   },
   "outputs": [],
   "source": [
    "test_string = \"{name:'成都', location:[121.32, 212.12]}\""
   ]
  },
  {
   "cell_type": "code",
   "execution_count": 10,
   "metadata": {
    "ExecuteTime": {
     "end_time": "2019-07-22T15:55:04.550148Z",
     "start_time": "2019-07-22T15:55:04.546148Z"
    }
   },
   "outputs": [
    {
     "data": {
      "text/plain": [
       "['成都']"
      ]
     },
     "execution_count": 10,
     "metadata": {},
     "output_type": "execute_result"
    }
   ],
   "source": [
    "import re\n",
    "\n",
    "pattern1 = r\"name:'(\\w+)'\"\n",
    "\n",
    "re.findall(pattern1, test_string)"
   ]
  },
  {
   "cell_type": "code",
   "execution_count": 12,
   "metadata": {
    "ExecuteTime": {
     "end_time": "2019-07-22T15:56:05.693025Z",
     "start_time": "2019-07-22T15:56:05.689026Z"
    }
   },
   "outputs": [
    {
     "data": {
      "text/plain": [
       "[('成都', '121.32', ' 212.12')]"
      ]
     },
     "execution_count": 12,
     "metadata": {},
     "output_type": "execute_result"
    }
   ],
   "source": [
    "pattern2 = r\"{name:'(\\w+)', location:\\[(\\d+.?\\d+),(\\s+\\d+.?\\d+)\\]}\"\n",
    "\n",
    "re.findall(pattern2, test_string)"
   ]
  },
  {
   "cell_type": "code",
   "execution_count": 17,
   "metadata": {
    "ExecuteTime": {
     "end_time": "2019-07-22T16:07:12.786519Z",
     "start_time": "2019-07-22T16:07:12.783548Z"
    }
   },
   "outputs": [],
   "source": [
    "pattern = r\"{name:'(\\w+)', geoCoord:\\[(\\d+.?\\d+),(\\s+\\d+.?\\d+)\\]}\""
   ]
  },
  {
   "cell_type": "code",
   "execution_count": 23,
   "metadata": {
    "ExecuteTime": {
     "end_time": "2019-07-22T16:10:47.391081Z",
     "start_time": "2019-07-22T16:10:47.385063Z"
    }
   },
   "outputs": [
    {
     "data": {
      "text/plain": [
       "{'香港': ('114.17', ' 22.28'),\n",
       " '兰州': ('103.73', ' 36.03'),\n",
       " '嘉峪关': ('98.17', ' 39.47'),\n",
       " '西宁': ('101.74', ' 36.56'),\n",
       " '成都': ('104.06', ' 30.67'),\n",
       " '石家庄': ('114.48', ' 38.03'),\n",
       " '拉萨': ('102.73', ' 25.04'),\n",
       " '贵阳': ('106.71', ' 26.57'),\n",
       " '武汉': ('114.31', ' 30.52'),\n",
       " '郑州': ('113.65', ' 34.76'),\n",
       " '济南': ('117', ' 36.65'),\n",
       " '南京': ('118.78', ' 32.04'),\n",
       " '合肥': ('117.27', ' 31.86'),\n",
       " '杭州': ('120.19', ' 30.26'),\n",
       " '南昌': ('115.89', ' 28.68'),\n",
       " '福州': ('119.3', ' 26.08'),\n",
       " '广州': ('113.23', ' 23.16'),\n",
       " '长沙': ('113', ' 28.21'),\n",
       " '海口': ('110.35', ' 20.02'),\n",
       " '沈阳': ('123.38', ' 41.8'),\n",
       " '长春': ('125.35', ' 43.88'),\n",
       " '哈尔滨': ('126.63', ' 45.75'),\n",
       " '太原': ('112.53', ' 37.87'),\n",
       " '西安': ('108.95', ' 34.27'),\n",
       " '台湾': ('121.30', ' 25.03'),\n",
       " '北京': ('116.46', ' 39.92'),\n",
       " '上海': ('121.48', ' 31.22'),\n",
       " '重庆': ('106.54', ' 29.59'),\n",
       " '天津': ('117.2', ' 39.13'),\n",
       " '呼和浩特': ('111.65', ' 40.82'),\n",
       " '南宁': ('108.33', ' 22.84'),\n",
       " '西藏': ('91.11', ' 29.97'),\n",
       " '银川': ('106.27', ' 38.47'),\n",
       " '乌鲁木齐': ('87.68', ' 43.77'),\n",
       " '澳门': ('113.54', ' 22.19')}"
      ]
     },
     "execution_count": 23,
     "metadata": {},
     "output_type": "execute_result"
    }
   ],
   "source": [
    "for line in coordination_source.split('\\n'):\n",
    "    city_info = re.findall(pattern, line)\n",
    "    if not city_info:\n",
    "        continue\n",
    "    city_name, x, y = city_info[0]\n",
    "    city_location[city_name] = (x, y)\n",
    "city_location"
   ]
  }
 ],
 "metadata": {
  "kernelspec": {
   "display_name": "Python 3",
   "language": "python",
   "name": "python3"
  },
  "language_info": {
   "codemirror_mode": {
    "name": "ipython",
    "version": 3
   },
   "file_extension": ".py",
   "mimetype": "text/x-python",
   "name": "python",
   "nbconvert_exporter": "python",
   "pygments_lexer": "ipython3",
   "version": "3.7.3"
  },
  "toc": {
   "base_numbering": 1,
   "nav_menu": {},
   "number_sections": true,
   "sideBar": true,
   "skip_h1_title": false,
   "title_cell": "Table of Contents",
   "title_sidebar": "Contents",
   "toc_cell": false,
   "toc_position": {},
   "toc_section_display": true,
   "toc_window_display": false
  },
  "varInspector": {
   "cols": {
    "lenName": 16,
    "lenType": 16,
    "lenVar": 40
   },
   "kernels_config": {
    "python": {
     "delete_cmd_postfix": "",
     "delete_cmd_prefix": "del ",
     "library": "var_list.py",
     "varRefreshCmd": "print(var_dic_list())"
    },
    "r": {
     "delete_cmd_postfix": ") ",
     "delete_cmd_prefix": "rm(",
     "library": "var_list.r",
     "varRefreshCmd": "cat(var_dic_list()) "
    }
   },
   "types_to_exclude": [
    "module",
    "function",
    "builtin_function_or_method",
    "instance",
    "_Feature"
   ],
   "window_display": false
  }
 },
 "nbformat": 4,
 "nbformat_minor": 2
}
