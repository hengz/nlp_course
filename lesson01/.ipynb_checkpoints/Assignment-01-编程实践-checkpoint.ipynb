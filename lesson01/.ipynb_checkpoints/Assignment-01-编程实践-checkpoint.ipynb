{
 "cells": [
  {
   "cell_type": "markdown",
   "metadata": {},
   "source": [
    "# 设计句子生成器"
   ]
  },
  {
   "cell_type": "markdown",
   "metadata": {},
   "source": [
    "## 语法一：“商人”"
   ]
  },
  {
   "cell_type": "code",
   "execution_count": 8,
   "metadata": {},
   "outputs": [],
   "source": [
    "merchant = '''\n",
    "merchant = 寒暄 询问 需求 结尾\n",
    "寒暄 = 打招呼\n",
    "打招呼 = 您好 | 你好\n",
    "询问 = 请问你要 | 您需要\n",
    "需求 = 购买 商品 | 帮助\n",
    "商品 = 食品 | 衣服 | 日用品\n",
    "结尾 = 吗？\n",
    "'''"
   ]
  },
  {
   "cell_type": "markdown",
   "metadata": {},
   "source": [
    "## 语法二：“顾客”"
   ]
  },
  {
   "cell_type": "code",
   "execution_count": null,
   "metadata": {},
   "outputs": [],
   "source": [
    "customer = '''\n",
    "customer = \n",
    "'''"
   ]
  },
  {
   "cell_type": "markdown",
   "metadata": {},
   "source": [
    "## 句子生成"
   ]
  },
  {
   "cell_type": "code",
   "execution_count": 11,
   "metadata": {},
   "outputs": [],
   "source": [
    "def create_grammar(grammar_str):\n",
    "    grammar = {}\n",
    "    \n",
    "    for grammar_line in grammar_str.split('\\n'):\n",
    "        if not grammar_line.strip():\n",
    "            continue\n",
    "            \n",
    "        exp, stmt = grammar_line.split('=')\n",
    "        grammar[exp.strip()] = [s.split() for s in stmt.split('|')]\n",
    "\n",
    "    return grammar"
   ]
  },
  {
   "cell_type": "code",
   "execution_count": 12,
   "metadata": {},
   "outputs": [],
   "source": [
    "from random import choice\n",
    "\n",
    "def generate(gram, target):\n",
    "    if target not in gram:\n",
    "        return target\n",
    "    return ''.join([generate(gram, t) for t in choice(gram[target])])"
   ]
  },
  {
   "cell_type": "code",
   "execution_count": 13,
   "metadata": {},
   "outputs": [
    {
     "data": {
      "text/plain": [
       "{'merchant': [['寒暄', '询问', '需求', '结尾']],\n",
       " '寒暄': [['打招呼']],\n",
       " '打招呼': [['您好'], ['你好']],\n",
       " '询问': [['请问你要'], ['您需要']],\n",
       " '需求': [['购买', '商品'], ['帮助']],\n",
       " '商品': [['食品'], ['衣服'], ['日用品']],\n",
       " '结尾': [['吗？']]}"
      ]
     },
     "execution_count": 13,
     "metadata": {},
     "output_type": "execute_result"
    }
   ],
   "source": [
    "grammar = create_grammar(merchant)\n",
    "grammar"
   ]
  },
  {
   "cell_type": "code",
   "execution_count": 30,
   "metadata": {},
   "outputs": [
    {
     "data": {
      "text/plain": [
       "'您好请问你要帮助吗？'"
      ]
     },
     "execution_count": 30,
     "metadata": {},
     "output_type": "execute_result"
    }
   ],
   "source": [
    "sentence = generate(grammar, 'merchant')\n",
    "sentence"
   ]
  },
  {
   "cell_type": "markdown",
   "metadata": {},
   "source": [
    "## 定义generate_n函数生成n个句子"
   ]
  },
  {
   "cell_type": "code",
   "execution_count": 33,
   "metadata": {},
   "outputs": [],
   "source": [
    "def generate_n(gram, target, n):\n",
    "    for i in range(0,n):\n",
    "        sentence = generate(gram, target)\n",
    "        print(sentence)"
   ]
  },
  {
   "cell_type": "code",
   "execution_count": 34,
   "metadata": {},
   "outputs": [
    {
     "name": "stdout",
     "output_type": "stream",
     "text": [
      "您好您需要帮助吗？\n",
      "你好您需要购买衣服吗？\n",
      "您好请问你要购买食品吗？\n",
      "您好您需要帮助吗？\n",
      "你好您需要购买食品吗？\n",
      "你好请问你要购买食品吗？\n",
      "您好您需要帮助吗？\n",
      "你好请问你要帮助吗？\n",
      "您好您需要购买食品吗？\n",
      "你好您需要帮助吗？\n"
     ]
    }
   ],
   "source": [
    "generate_n(grammar, 'merchant', 10)"
   ]
  },
  {
   "cell_type": "markdown",
   "metadata": {},
   "source": [
    "# 使用新数据源完成语言模型的训练"
   ]
  },
  {
   "cell_type": "markdown",
   "metadata": {},
   "source": [
    "## 预处理提取文字序列"
   ]
  },
  {
   "cell_type": "code",
   "execution_count": 2,
   "metadata": {
    "ExecuteTime": {
     "end_time": "2019-07-16T13:38:45.238686Z",
     "start_time": "2019-07-16T13:38:45.229713Z"
    }
   },
   "outputs": [
    {
     "data": {
      "text/plain": [
       "' 定期人寿保险在特定年龄结束吗？ '"
      ]
     },
     "execution_count": 2,
     "metadata": {},
     "output_type": "execute_result"
    }
   ],
   "source": [
    "line = \"119 ++$++ life-insurance ++$++ 定期人寿保险在特定年龄结束吗？ ++$++ Does  Term  Life  Insurance  End  At  A  Certain  Age?\"\n",
    "no, category, text_chn, text_eng = line.split('++$++')\n",
    "text_chn"
   ]
  },
  {
   "cell_type": "code",
   "execution_count": 25,
   "metadata": {
    "ExecuteTime": {
     "end_time": "2019-07-16T14:09:11.753082Z",
     "start_time": "2019-07-16T14:09:11.728110Z"
    }
   },
   "outputs": [],
   "source": [
    "text_list = []\n",
    "with open('train.txt', encoding='utf-8') as raw_text:\n",
    "    for line in raw_text:\n",
    "        no, category, text_chn, text_eng = line.split('++$++')\n",
    "        text_list.append(text_chn)"
   ]
  },
  {
   "cell_type": "code",
   "execution_count": 26,
   "metadata": {
    "ExecuteTime": {
     "end_time": "2019-07-16T14:48:02.438767Z",
     "start_time": "2019-07-16T14:48:02.433791Z"
    }
   },
   "outputs": [
    {
     "data": {
      "text/plain": [
       "12889"
      ]
     },
     "execution_count": 26,
     "metadata": {},
     "output_type": "execute_result"
    }
   ],
   "source": [
    "len(text_list)"
   ]
  },
  {
   "cell_type": "code",
   "execution_count": 29,
   "metadata": {
    "ExecuteTime": {
     "end_time": "2019-07-16T14:51:07.523744Z",
     "start_time": "2019-07-16T14:51:07.520742Z"
    }
   },
   "outputs": [],
   "source": [
    "import re\n",
    "def token(string):\n",
    "    # we will learn the regular expression next course.\n",
    "    return re.findall('\\w+', string)"
   ]
  },
  {
   "cell_type": "code",
   "execution_count": 30,
   "metadata": {
    "ExecuteTime": {
     "end_time": "2019-07-16T14:51:08.540064Z",
     "start_time": "2019-07-16T14:51:08.536087Z"
    }
   },
   "outputs": [
    {
     "data": {
      "text/plain": [
       "['可以在乳腺癌后获得人身保险吗']"
      ]
     },
     "execution_count": 30,
     "metadata": {},
     "output_type": "execute_result"
    }
   ],
   "source": [
    "token(text_list[110])"
   ]
  },
  {
   "cell_type": "code",
   "execution_count": 32,
   "metadata": {
    "ExecuteTime": {
     "end_time": "2019-07-16T14:51:32.938213Z",
     "start_time": "2019-07-16T14:51:32.913181Z"
    }
   },
   "outputs": [],
   "source": [
    "text_clean = [''.join(token(str(a)))for a in text_list]"
   ]
  },
  {
   "cell_type": "markdown",
   "metadata": {},
   "source": [
    "## 分词获取所有词"
   ]
  },
  {
   "cell_type": "code",
   "execution_count": 34,
   "metadata": {
    "ExecuteTime": {
     "end_time": "2019-07-16T14:57:21.099573Z",
     "start_time": "2019-07-16T14:57:20.833185Z"
    }
   },
   "outputs": [],
   "source": [
    "import jieba\n",
    "\n",
    "def cut(string):\n",
    "    return list(jieba.cut(string))"
   ]
  },
  {
   "cell_type": "code",
   "execution_count": 35,
   "metadata": {
    "ExecuteTime": {
     "end_time": "2019-07-16T15:00:09.326858Z",
     "start_time": "2019-07-16T15:00:08.118777Z"
    }
   },
   "outputs": [
    {
     "name": "stderr",
     "output_type": "stream",
     "text": [
      "Building prefix dict from the default dictionary ...\n",
      "Dumping model to file cache C:\\Users\\Vick\\AppData\\Local\\Temp\\jieba.cache\n",
      "Loading model cost 0.716 seconds.\n",
      "Prefix dict has been built succesfully.\n"
     ]
    }
   ],
   "source": [
    "TOKEN = []\n",
    "\n",
    "for a in text_clean:\n",
    "    TOKEN += cut(a)"
   ]
  },
  {
   "cell_type": "code",
   "execution_count": 36,
   "metadata": {
    "ExecuteTime": {
     "end_time": "2019-07-16T15:00:22.025660Z",
     "start_time": "2019-07-16T15:00:22.015635Z"
    }
   },
   "outputs": [
    {
     "data": {
      "text/plain": [
       "['法律',\n",
       " '要求',\n",
       " '残疾',\n",
       " '保险',\n",
       " '吗',\n",
       " '债权人',\n",
       " '可以',\n",
       " '在',\n",
       " '死',\n",
       " '后',\n",
       " '人寿保险',\n",
       " '吗',\n",
       " '旅行者',\n",
       " '保险',\n",
       " '有',\n",
       " '租赁',\n",
       " '保险',\n",
       " '吗',\n",
       " '我',\n",
       " '可以',\n",
       " '开',\n",
       " '一辆',\n",
       " '没有',\n",
       " '保险',\n",
       " '的',\n",
       " '新车',\n",
       " '吗',\n",
       " '人寿保险',\n",
       " '的',\n",
       " '现金',\n",
       " '转',\n",
       " '出',\n",
       " '价值',\n",
       " '是否',\n",
       " '应',\n",
       " '纳税',\n",
       " '如何',\n",
       " '报告',\n",
       " '年',\n",
       " '金',\n",
       " '收入',\n",
       " 'AAA',\n",
       " '家庭',\n",
       " '保险',\n",
       " '涵盖',\n",
       " '什么',\n",
       " '什么',\n",
       " '是',\n",
       " '简单',\n",
       " '的',\n",
       " '退休',\n",
       " '计划',\n",
       " '社会保险',\n",
       " '残疾',\n",
       " '保险',\n",
       " '是',\n",
       " '什么',\n",
       " '汽车保险',\n",
       " '是否',\n",
       " '预付',\n",
       " '医疗保险',\n",
       " 'B',\n",
       " '部分',\n",
       " '盖',\n",
       " '什么',\n",
       " '退伍军人',\n",
       " '能否',\n",
       " '获得',\n",
       " '人寿保险',\n",
       " '我',\n",
       " '的',\n",
       " '房主',\n",
       " '保险',\n",
       " '是否',\n",
       " '包括',\n",
       " '失去',\n",
       " '的',\n",
       " '结婚戒指',\n",
       " '分配',\n",
       " '风险',\n",
       " '汽车保险',\n",
       " '如何',\n",
       " '工作',\n",
       " '我',\n",
       " '的',\n",
       " '男朋友',\n",
       " '可以',\n",
       " '加',\n",
       " '我',\n",
       " '的',\n",
       " '汽车保险',\n",
       " '吗',\n",
       " '我',\n",
       " '是否',\n",
       " '需要',\n",
       " '提交',\n",
       " '私人',\n",
       " '财产',\n",
       " '车祸',\n",
       " '索赔',\n",
       " '的',\n",
       " '警察',\n",
       " '报告',\n",
       " '全',\n",
       " '覆盖',\n",
       " '汽车保险',\n",
       " '盖',\n",
       " '修理',\n",
       " '人生',\n",
       " '在',\n",
       " '伊斯兰教',\n",
       " '中',\n",
       " '是否',\n",
       " '可以',\n",
       " '接受',\n",
       " '健康',\n",
       " '保险',\n",
       " '是否',\n",
       " '覆盖',\n",
       " '管道',\n",
       " '逆转',\n",
       " '如果',\n",
       " '您',\n",
       " '已经',\n",
       " '诊断',\n",
       " '为',\n",
       " '乳腺癌',\n",
       " '您',\n",
       " '可以',\n",
       " '获得',\n",
       " '多大',\n",
       " '的',\n",
       " '人寿保险',\n",
       " '我',\n",
       " '需要',\n",
       " '注册',\n",
       " '医疗保险',\n",
       " '短期',\n",
       " '残疾',\n",
       " '保险',\n",
       " '是否',\n",
       " '工作',\n",
       " '房主',\n",
       " '保险',\n",
       " '盖池',\n",
       " '什么',\n",
       " '时候',\n",
       " '要',\n",
       " '注册',\n",
       " '医疗保险',\n",
       " 'MIP',\n",
       " '会',\n",
       " '影响',\n",
       " '我',\n",
       " '的',\n",
       " '汽车保险',\n",
       " '吗',\n",
       " '蓝',\n",
       " '十字',\n",
       " '蓝盾',\n",
       " '有',\n",
       " '人寿保险',\n",
       " '吗',\n",
       " '长期',\n",
       " '护理',\n",
       " '保险',\n",
       " '的',\n",
       " '优点',\n",
       " '和',\n",
       " '缺点',\n",
       " '是',\n",
       " '什么',\n",
       " '医疗保险',\n",
       " '支付',\n",
       " '生命',\n",
       " '预警',\n",
       " '我',\n",
       " '应该',\n",
       " '买',\n",
       " '哪种',\n",
       " '人寿',\n",
       " '医疗保险',\n",
       " '支付',\n",
       " 'HPV',\n",
       " '筛查',\n",
       " '吗',\n",
       " '哪个',\n",
       " '是',\n",
       " '最好',\n",
       " '的',\n",
       " '人寿保险',\n",
       " '长期',\n",
       " '护理',\n",
       " '保险费用',\n",
       " '多少',\n",
       " '固定',\n",
       " '年',\n",
       " '金',\n",
       " '如何',\n",
       " '安全',\n",
       " '要',\n",
       " '解决',\n",
       " '人寿保险',\n",
       " '索赔',\n",
       " '需要',\n",
       " '多长时间',\n",
       " '是否',\n",
       " '检查',\n",
       " '汽车保险',\n",
       " '信贷',\n",
       " '我',\n",
       " '可以',\n",
       " '使用',\n",
       " 'HSA',\n",
       " '支付',\n",
       " '长期',\n",
       " '护理',\n",
       " '保险',\n",
       " '吗',\n",
       " '雇主',\n",
       " '可以',\n",
       " '向',\n",
       " '吸烟者',\n",
       " '收取',\n",
       " '更',\n",
       " '多',\n",
       " '健康',\n",
       " '保险费',\n",
       " '吗',\n",
       " '房屋',\n",
       " '所有权',\n",
       " '保险',\n",
       " '通常',\n",
       " '覆盖',\n",
       " '什么',\n",
       " '没有',\n",
       " '健康',\n",
       " '保险',\n",
       " '的',\n",
       " '超声波',\n",
       " '成本',\n",
       " '是',\n",
       " '多少',\n",
       " '什么',\n",
       " '是',\n",
       " '10',\n",
       " '年期',\n",
       " '人寿保险',\n",
       " '你',\n",
       " '可以',\n",
       " '把',\n",
       " '钱',\n",
       " '放在',\n",
       " '一个',\n",
       " '401K',\n",
       " '和',\n",
       " '一个',\n",
       " 'RothIRA',\n",
       " '我',\n",
       " '可以',\n",
       " '用',\n",
       " '丙型肝炎',\n",
       " '保险',\n",
       " '吗',\n",
       " '什么',\n",
       " '时候',\n",
       " '可以',\n",
       " '注册',\n",
       " '医疗保险',\n",
       " 'A',\n",
       " '部分',\n",
       " '健康',\n",
       " '保险',\n",
       " '何时',\n",
       " '起源',\n",
       " '医疗保险',\n",
       " '有',\n",
       " '多',\n",
       " '重要',\n",
       " '租用',\n",
       " '保险费用',\n",
       " '多少',\n",
       " '我',\n",
       " '的',\n",
       " '家庭',\n",
       " '保险',\n",
       " '是否',\n",
       " '覆盖',\n",
       " '盗窃',\n",
       " '租户',\n",
       " '保险',\n",
       " '如何',\n",
       " '受益',\n",
       " '业主',\n",
       " '俄亥俄州',\n",
       " '雇主',\n",
       " '是否',\n",
       " '必须',\n",
       " '提供',\n",
       " '健康',\n",
       " '保险',\n",
       " '我',\n",
       " '应该',\n",
       " '有',\n",
       " '多少',\n",
       " '汽车保险',\n",
       " '为什么',\n",
       " '房主',\n",
       " '保险',\n",
       " '增加',\n",
       " '谁',\n",
       " '能',\n",
       " '买',\n",
       " '医保',\n",
       " '如何',\n",
       " '清除',\n",
       " 'MedicareB',\n",
       " '部分',\n",
       " '在',\n",
       " '什么',\n",
       " '年龄',\n",
       " '我',\n",
       " '应该',\n",
       " '得到',\n",
       " '长期',\n",
       " '护理',\n",
       " '保险',\n",
       " '人寿保险',\n",
       " '死亡',\n",
       " '福利',\n",
       " '是否',\n",
       " '应',\n",
       " '纳税',\n",
       " '什么',\n",
       " '是',\n",
       " '医疗',\n",
       " '储蓄',\n",
       " '计划',\n",
       " '房主',\n",
       " '保险',\n",
       " '是否',\n",
       " '向',\n",
       " '其他',\n",
       " '狗盖',\n",
       " '狗',\n",
       " '叮咬',\n",
       " '医疗保险',\n",
       " '计划',\n",
       " '盖',\n",
       " '什么',\n",
       " '全',\n",
       " '人寿保险',\n",
       " '是',\n",
       " '一个',\n",
       " '好',\n",
       " '的',\n",
       " '选择',\n",
       " '吗',\n",
       " '雇主',\n",
       " '可以',\n",
       " '提供',\n",
       " '不同',\n",
       " '数额',\n",
       " '的',\n",
       " '健康',\n",
       " '保险',\n",
       " '吗',\n",
       " '将来',\n",
       " '会',\n",
       " '发生',\n",
       " '什么',\n",
       " '医疗保险',\n",
       " '一般',\n",
       " '人寿保险',\n",
       " '我',\n",
       " '的',\n",
       " '汽车保险',\n",
       " '是否',\n",
       " '会',\n",
       " '如果',\n",
       " '得到',\n",
       " '机票',\n",
       " '呢',\n",
       " '租客',\n",
       " '保险',\n",
       " '是否',\n",
       " '包括',\n",
       " '盗窃',\n",
       " '什么',\n",
       " '是',\n",
       " '租赁',\n",
       " '保险',\n",
       " '如何',\n",
       " '计算',\n",
       " '家庭',\n",
       " '保险',\n",
       " '房主',\n",
       " '保险',\n",
       " '是否',\n",
       " '覆盖',\n",
       " '下水道',\n",
       " '维修',\n",
       " 'AARP',\n",
       " '是否',\n",
       " '有',\n",
       " '长期',\n",
       " '护理',\n",
       " '保险',\n",
       " '短期',\n",
       " '残疾',\n",
       " '考虑',\n",
       " '健康',\n",
       " '保险',\n",
       " '吗',\n",
       " '在',\n",
       " '什么',\n",
       " '年龄',\n",
       " '你',\n",
       " '应该',\n",
       " '得到',\n",
       " '人寿保险',\n",
       " '旅行者',\n",
       " '家庭',\n",
       " '保险',\n",
       " '好',\n",
       " '吗',\n",
       " '谁',\n",
       " '能',\n",
       " '得到',\n",
       " '医疗保险',\n",
       " '谁',\n",
       " '有',\n",
       " '最',\n",
       " '优惠',\n",
       " '的',\n",
       " '租金',\n",
       " '保险费率',\n",
       " '谁',\n",
       " '能',\n",
       " '驾驶',\n",
       " '你',\n",
       " '的',\n",
       " '车',\n",
       " '在',\n",
       " '你',\n",
       " '的',\n",
       " '保险',\n",
       " '医疗保险',\n",
       " '可以',\n",
       " '支付',\n",
       " '养老院',\n",
       " '吗',\n",
       " '如果',\n",
       " '汽车保险',\n",
       " '失败',\n",
       " '会',\n",
       " '发生',\n",
       " '什么',\n",
       " '车库',\n",
       " '门',\n",
       " '由',\n",
       " '房主',\n",
       " '保险',\n",
       " '覆盖',\n",
       " '我',\n",
       " '在',\n",
       " '哪里',\n",
       " '注册',\n",
       " '医疗保险',\n",
       " '如何',\n",
       " '获得',\n",
       " '汽车保险',\n",
       " '最佳',\n",
       " '交易',\n",
       " '在',\n",
       " '新泽西州',\n",
       " '如何',\n",
       " '申请',\n",
       " 'MedicarePartD',\n",
       " '哪家',\n",
       " '公司',\n",
       " '提供',\n",
       " '最佳',\n",
       " '租赁',\n",
       " '保险',\n",
       " '全',\n",
       " '人寿保险',\n",
       " '有',\n",
       " '哪些',\n",
       " '特点',\n",
       " '什么',\n",
       " '是',\n",
       " '年',\n",
       " '金种',\n",
       " '现金流',\n",
       " '可以',\n",
       " '在',\n",
       " '乳腺癌',\n",
       " '后',\n",
       " '获得',\n",
       " '人身保险',\n",
       " '吗',\n",
       " '如何',\n",
       " '找出',\n",
       " '多少',\n",
       " '汽车保险',\n",
       " '呢',\n",
       " '如何',\n",
       " '计划',\n",
       " '退休',\n",
       " '与',\n",
       " '401K',\n",
       " '什么',\n",
       " '是',\n",
       " '不',\n",
       " '符合',\n",
       " '奥巴马',\n",
       " '的',\n",
       " '健康',\n",
       " '保险',\n",
       " '的',\n",
       " '税收',\n",
       " '减免',\n",
       " '你',\n",
       " '能',\n",
       " '失去',\n",
       " '医疗',\n",
       " '福利',\n",
       " '吗',\n",
       " '房主',\n",
       " '保险',\n",
       " '是否',\n",
       " '会',\n",
       " '损失',\n",
       " '钻石',\n",
       " '长期',\n",
       " '护理',\n",
       " '保险费用',\n",
       " '多少',\n",
       " '何时',\n",
       " '应该',\n",
       " '停止',\n",
       " '支付',\n",
       " '人寿保险',\n",
       " '你',\n",
       " '去',\n",
       " '医疗保险',\n",
       " '什么',\n",
       " '年龄',\n",
       " '人寿保险',\n",
       " '公司',\n",
       " '如何',\n",
       " '吸烟',\n",
       " '如何',\n",
       " '确定',\n",
       " '您',\n",
       " '是否',\n",
       " '需要',\n",
       " '长期',\n",
       " '护理',\n",
       " '保险',\n",
       " '谁',\n",
       " '制造',\n",
       " '汽车保险',\n",
       " '什么',\n",
       " '时候',\n",
       " '应该',\n",
       " '得到',\n",
       " '期限',\n",
       " '人寿保险',\n",
       " '信用',\n",
       " '与',\n",
       " '汽车保险',\n",
       " '有',\n",
       " '什么',\n",
       " '关系',\n",
       " '家庭',\n",
       " '保险',\n",
       " '是否',\n",
       " '支付',\n",
       " '屋顶',\n",
       " '更换',\n",
       " '谁',\n",
       " '拥有',\n",
       " '最好',\n",
       " '和',\n",
       " '最',\n",
       " '便宜',\n",
       " '的',\n",
       " '汽车保险',\n",
       " '你',\n",
       " '能',\n",
       " '租',\n",
       " '汽车保险',\n",
       " '吗',\n",
       " '房主',\n",
       " '保险',\n",
       " '涵盖',\n",
       " '什么',\n",
       " '我',\n",
       " '可以',\n",
       " '为',\n",
       " '我',\n",
       " '母亲',\n",
       " '购买',\n",
       " '长期',\n",
       " '护理',\n",
       " '保险',\n",
       " '吗',\n",
       " '什么',\n",
       " '是',\n",
       " '完全',\n",
       " '实行',\n",
       " '人寿保险',\n",
       " '我',\n",
       " '可以',\n",
       " '得到',\n",
       " '高血压',\n",
       " '的',\n",
       " '人寿保险',\n",
       " '吗',\n",
       " '如何',\n",
       " '找到',\n",
       " '好',\n",
       " '的',\n",
       " '租客',\n",
       " '保险',\n",
       " '什么',\n",
       " '是',\n",
       " '考虑',\n",
       " '用于',\n",
       " '保险',\n",
       " '目的',\n",
       " '的',\n",
       " '跑车',\n",
       " '家庭',\n",
       " '保险',\n",
       " '涵盖',\n",
       " '什么',\n",
       " '为什么',\n",
       " '现在',\n",
       " '重新',\n",
       " '计划',\n",
       " '退休',\n",
       " '为什么',\n",
       " '要',\n",
       " '为',\n",
       " '汽车保险',\n",
       " '付钱',\n",
       " '移动',\n",
       " '家庭',\n",
       " '保险',\n",
       " '如何',\n",
       " '便宜',\n",
       " '可以',\n",
       " '在',\n",
       " '乳腺癌',\n",
       " '后',\n",
       " '获得',\n",
       " '人身保险',\n",
       " '吗',\n",
       " '多少',\n",
       " '人',\n",
       " '使用',\n",
       " '残疾',\n",
       " '保险',\n",
       " '您',\n",
       " '的',\n",
       " '汽车保险',\n",
       " '涵盖',\n",
       " '谁',\n",
       " '什么',\n",
       " '是',\n",
       " 'Medigap',\n",
       " '计划',\n",
       " '如何',\n",
       " '增加',\n",
       " '健康',\n",
       " '保险',\n",
       " '长期',\n",
       " '残疾',\n",
       " '保险',\n",
       " '多久',\n",
       " '全',\n",
       " '人寿保险',\n",
       " '不好',\n",
       " '吗',\n",
       " '犹他州',\n",
       " '的',\n",
       " '平均',\n",
       " '车险',\n",
       " '是',\n",
       " '多少',\n",
       " '伟大',\n",
       " '的',\n",
       " '西方',\n",
       " '人寿',\n",
       " '是否',\n",
       " '涵盖',\n",
       " '旅游',\n",
       " '保险',\n",
       " '定期',\n",
       " '人寿保险',\n",
       " '在',\n",
       " '特定',\n",
       " '年龄',\n",
       " '结束',\n",
       " '吗',\n",
       " '房主',\n",
       " '保险',\n",
       " '是否',\n",
       " '覆盖',\n",
       " '火器',\n",
       " '共同',\n",
       " '基金',\n",
       " '的',\n",
       " '资产',\n",
       " '净值',\n",
       " '是',\n",
       " '多少',\n",
       " '哪些',\n",
       " '国家',\n",
       " '有',\n",
       " '最好',\n",
       " '的',\n",
       " '健康',\n",
       " '保险',\n",
       " '为什么',\n",
       " '重要',\n",
       " '计划',\n",
       " '退休',\n",
       " '多少',\n",
       " '残疾',\n",
       " '保险',\n",
       " '足够',\n",
       " '了',\n",
       " '骑手',\n",
       " '在',\n",
       " '人寿保险',\n",
       " '中',\n",
       " '意味着',\n",
       " '什么',\n",
       " '你',\n",
       " '为',\n",
       " '长期',\n",
       " '护理',\n",
       " '保险',\n",
       " '支付',\n",
       " '多少',\n",
       " '钱',\n",
       " '我',\n",
       " '可以',\n",
       " '要求',\n",
       " '什么',\n",
       " '租客',\n",
       " '保险',\n",
       " '健康',\n",
       " '保险',\n",
       " '额定值',\n",
       " '是',\n",
       " '多少',\n",
       " '你',\n",
       " '如何',\n",
       " '计算',\n",
       " '人寿保险',\n",
       " '的',\n",
       " '期望',\n",
       " '回报',\n",
       " '没有',\n",
       " '驾照',\n",
       " '吗',\n",
       " '什么',\n",
       " '时候',\n",
       " '是',\n",
       " '符合',\n",
       " '医疗保险',\n",
       " 'D',\n",
       " '部分',\n",
       " '的',\n",
       " '人',\n",
       " '汽车保险',\n",
       " '是',\n",
       " '联邦',\n",
       " '要求',\n",
       " '吗',\n",
       " '你',\n",
       " '能',\n",
       " '得到',\n",
       " '不良',\n",
       " '信用',\n",
       " '的',\n",
       " '汽车保险',\n",
       " '吗',\n",
       " 'HIPPA',\n",
       " '适用',\n",
       " '于',\n",
       " '人寿保险',\n",
       " '公司',\n",
       " '吗',\n",
       " 'DUI',\n",
       " '后',\n",
       " '汽车',\n",
       " '保险费用',\n",
       " '多少',\n",
       " '购买',\n",
       " '家庭',\n",
       " '时',\n",
       " '多少',\n",
       " '保险',\n",
       " '什么',\n",
       " '是',\n",
       " 'Medigap',\n",
       " '政策',\n",
       " '租客',\n",
       " '保险',\n",
       " '是否',\n",
       " '涵盖',\n",
       " '失去',\n",
       " '的',\n",
       " '订婚戒指',\n",
       " 'Obamacare',\n",
       " '覆盖',\n",
       " 'Medigap',\n",
       " '全国',\n",
       " '租赁',\n",
       " '保险',\n",
       " '多少',\n",
       " '谁',\n",
       " '卖出',\n",
       " '抵押',\n",
       " '人寿保险',\n",
       " '我',\n",
       " '的',\n",
       " '人寿保险',\n",
       " '是否',\n",
       " '覆盖',\n",
       " '跳伞',\n",
       " '健康',\n",
       " '保险',\n",
       " '是否',\n",
       " '覆盖',\n",
       " '皮肤',\n",
       " '清除',\n",
       " '手术',\n",
       " '没有',\n",
       " '健康',\n",
       " '保险',\n",
       " '的',\n",
       " '皮肤科',\n",
       " '医生',\n",
       " '花费',\n",
       " '多少',\n",
       " '钱',\n",
       " '在',\n",
       " '哪里',\n",
       " '得到',\n",
       " '健康',\n",
       " '保险',\n",
       " '与',\n",
       " '预先',\n",
       " '存在',\n",
       " '的',\n",
       " '条件',\n",
       " '是否',\n",
       " 'USAA',\n",
       " '卖',\n",
       " '人寿保险',\n",
       " '联邦政府',\n",
       " '是否',\n",
       " '有',\n",
       " '残疾',\n",
       " '保险',\n",
       " '什么',\n",
       " '是',\n",
       " '人寿保险',\n",
       " '股',\n",
       " '残疾人',\n",
       " '保险',\n",
       " '在',\n",
       " '平均水平',\n",
       " '上',\n",
       " '有',\n",
       " '多',\n",
       " '大',\n",
       " '你',\n",
       " '可以',\n",
       " '提交',\n",
       " '人寿保险',\n",
       " '吗',\n",
       " '人寿保险',\n",
       " '是否',\n",
       " '考虑',\n",
       " '收入',\n",
       " '什么',\n",
       " '时候',\n",
       " '应该',\n",
       " '得到',\n",
       " '残疾',\n",
       " '保险',\n",
       " '租金',\n",
       " '保险费用',\n",
       " '多少',\n",
       " '新罕布什尔州',\n",
       " '是否',\n",
       " '需要',\n",
       " '汽车保险',\n",
       " '您',\n",
       " '的',\n",
       " '工资',\n",
       " '有',\n",
       " '多少',\n",
       " '由',\n",
       " '残疾',\n",
       " '保险',\n",
       " '承担',\n",
       " '哪个',\n",
       " '药店',\n",
       " '接受',\n",
       " '医疗保险',\n",
       " '需要',\n",
       " '多长时间',\n",
       " '才能',\n",
       " '获得',\n",
       " '汽车保险',\n",
       " '什么',\n",
       " '是',\n",
       " '医疗保险',\n",
       " '如何',\n",
       " '确定',\n",
       " '期限',\n",
       " '人寿保险',\n",
       " '的',\n",
       " '现金',\n",
       " '价值',\n",
       " '人寿保险',\n",
       " '为',\n",
       " '您',\n",
       " '的',\n",
       " '葬礼',\n",
       " '付钱',\n",
       " '吗',\n",
       " '你',\n",
       " '的',\n",
       " '健康',\n",
       " '保险',\n",
       " '可以',\n",
       " '让',\n",
       " '孩子',\n",
       " '多久',\n",
       " '健康',\n",
       " '保险',\n",
       " '税',\n",
       " '何时',\n",
       " '可以',\n",
       " '扣除',\n",
       " 'SuzeOrman',\n",
       " '对',\n",
       " '可变',\n",
       " '年金',\n",
       " '说',\n",
       " '什么',\n",
       " '可以',\n",
       " '用',\n",
       " 'Fsa',\n",
       " '支付',\n",
       " '健康',\n",
       " '保险费',\n",
       " '吗',\n",
       " '沃尔玛',\n",
       " '是否',\n",
       " '接受',\n",
       " '医疗保险',\n",
       " '汽车保险',\n",
       " '可以',\n",
       " '转移',\n",
       " '吗',\n",
       " '什么',\n",
       " '是',\n",
       " 'SR22',\n",
       " '保险',\n",
       " '没有',\n",
       " '工作',\n",
       " '可以',\n",
       " '得到',\n",
       " '汽车保险',\n",
       " '吗',\n",
       " '你',\n",
       " '经常',\n",
       " '支付',\n",
       " '健康',\n",
       " '保险',\n",
       " '吗',\n",
       " '受益人',\n",
       " '何时',\n",
       " '收到',\n",
       " '人寿保险',\n",
       " '如果',\n",
       " '我',\n",
       " '没有',\n",
       " '汽车保险',\n",
       " ...]"
      ]
     },
     "execution_count": 36,
     "metadata": {},
     "output_type": "execute_result"
    }
   ],
   "source": [
    "TOKEN"
   ]
  },
  {
   "cell_type": "code",
   "execution_count": 37,
   "metadata": {
    "ExecuteTime": {
     "end_time": "2019-07-16T15:01:13.901193Z",
     "start_time": "2019-07-16T15:01:13.887178Z"
    },
    "scrolled": true
   },
   "outputs": [
    {
     "data": {
      "text/plain": [
       "[('保险', 5013),\n",
       " ('的', 3220),\n",
       " ('人寿保险', 2962),\n",
       " ('什么', 2677),\n",
       " ('吗', 2479),\n",
       " ('是', 2347),\n",
       " ('我', 2054),\n",
       " ('是否', 1862),\n",
       " ('可以', 1704),\n",
       " ('健康', 1513),\n",
       " ('如何', 1294),\n",
       " ('医疗保险', 1269),\n",
       " ('多少', 1252),\n",
       " ('汽车保险', 1189),\n",
       " ('在', 913),\n",
       " ('覆盖', 848),\n",
       " ('你', 827),\n",
       " ('有', 775),\n",
       " ('残疾', 724),\n",
       " ('房主', 714),\n",
       " ('需要', 612),\n",
       " ('计划', 594),\n",
       " ('获得', 578),\n",
       " ('年', 572),\n",
       " ('为什么', 572),\n",
       " ('家庭', 561),\n",
       " ('谁', 554),\n",
       " ('长期', 536),\n",
       " ('支付', 532),\n",
       " ('金', 494),\n",
       " ('护理', 479),\n",
       " ('涵盖', 449),\n",
       " ('退休', 394),\n",
       " ('购买', 357),\n",
       " ('应该', 344),\n",
       " ('得到', 304),\n",
       " ('租客', 287),\n",
       " ('时候', 280),\n",
       " ('何时', 276),\n",
       " ('汽车', 270),\n",
       " ('最好', 261),\n",
       " ('如果', 258),\n",
       " ('政策', 256),\n",
       " ('租金', 252),\n",
       " ('为', 250),\n",
       " ('中', 246),\n",
       " ('哪里', 245),\n",
       " ('会', 241),\n",
       " ('Medigap', 237),\n",
       " ('提供', 233),\n",
       " ('一个', 220),\n",
       " ('没有', 215),\n",
       " ('保险费用', 203),\n",
       " ('工作', 200),\n",
       " ('影响', 199),\n",
       " ('钱', 193),\n",
       " ('要', 192),\n",
       " ('费用', 190),\n",
       " ('公司', 189),\n",
       " ('买', 188),\n",
       " ('您', 183),\n",
       " ('租赁', 179),\n",
       " ('保险公司', 177),\n",
       " ('部分', 171),\n",
       " ('能', 171),\n",
       " ('好', 170),\n",
       " ('全', 161),\n",
       " ('人寿', 161),\n",
       " ('索赔', 157),\n",
       " ('便宜', 157),\n",
       " ('从', 157),\n",
       " ('与', 154),\n",
       " ('和', 151),\n",
       " ('取消', 140),\n",
       " ('成本', 138),\n",
       " ('了', 138),\n",
       " ('最佳', 125),\n",
       " ('医疗', 117),\n",
       " ('最', 116),\n",
       " ('哪个', 115),\n",
       " ('不', 112),\n",
       " ('期限', 112),\n",
       " ('扣除', 112),\n",
       " ('价值', 111),\n",
       " ('B', 109),\n",
       " ('上', 109),\n",
       " ('时', 108),\n",
       " ('岁', 108),\n",
       " ('被', 107),\n",
       " ('多长时间', 106),\n",
       " ('多久', 106),\n",
       " ('可变', 106),\n",
       " ('现金', 105),\n",
       " ('发生', 104),\n",
       " ('平均', 101),\n",
       " ('401K', 99),\n",
       " ('人', 99),\n",
       " ('保险费', 98),\n",
       " ('哪些', 98),\n",
       " ('对', 97)]"
      ]
     },
     "execution_count": 37,
     "metadata": {},
     "output_type": "execute_result"
    }
   ],
   "source": [
    "from collections import Counter\n",
    "words_count = Counter(TOKEN)\n",
    "words_count.most_common(100)"
   ]
  },
  {
   "cell_type": "markdown",
   "metadata": {},
   "source": [
    "## 绘制词语分布"
   ]
  },
  {
   "cell_type": "code",
   "execution_count": 39,
   "metadata": {
    "ExecuteTime": {
     "end_time": "2019-07-16T15:04:11.419004Z",
     "start_time": "2019-07-16T15:04:11.415001Z"
    }
   },
   "outputs": [],
   "source": [
    "frequiences = [f for w, f in words_count.most_common(100)]\n",
    "x = [i for i in range(100)]"
   ]
  },
  {
   "cell_type": "code",
   "execution_count": 40,
   "metadata": {
    "ExecuteTime": {
     "end_time": "2019-07-16T15:04:12.757431Z",
     "start_time": "2019-07-16T15:04:12.662461Z"
    }
   },
   "outputs": [
    {
     "data": {
      "text/plain": [
       "[<matplotlib.lines.Line2D at 0x17810109940>]"
      ]
     },
     "execution_count": 40,
     "metadata": {},
     "output_type": "execute_result"
    },
    {
     "data": {
      "image/png": "[encoded data removed]",
      "text/plain": [
       "<Figure size 432x288 with 1 Axes>"
      ]
     },
     "metadata": {
      "needs_background": "light"
     },
     "output_type": "display_data"
    }
   ],
   "source": [
    "import matplotlib.pyplot as plt\n",
    "%matplotlib inline\n",
    "plt.plot(x, frequiences)"
   ]
  },
  {
   "cell_type": "code",
   "execution_count": 41,
   "metadata": {
    "ExecuteTime": {
     "end_time": "2019-07-16T15:08:29.613223Z",
     "start_time": "2019-07-16T15:08:29.511215Z"
    }
   },
   "outputs": [
    {
     "data": {
      "text/plain": [
       "[<matplotlib.lines.Line2D at 0x17808988cc0>]"
      ]
     },
     "execution_count": 41,
     "metadata": {},
     "output_type": "execute_result"
    },
    {
     "data": {
      "image/png": "[encoded data removed]",
      "text/plain": [
       "<Figure size 432x288 with 1 Axes>"
      ]
     },
     "metadata": {
      "needs_background": "light"
     },
     "output_type": "display_data"
    }
   ],
   "source": [
    "import numpy as np\n",
    "\n",
    "plt.plot(x, np.log(frequiences))"
   ]
  },
  {
   "cell_type": "markdown",
   "metadata": {},
   "source": [
    "## 计算1-gram"
   ]
  },
  {
   "cell_type": "code",
   "execution_count": 42,
   "metadata": {
    "ExecuteTime": {
     "end_time": "2019-07-16T15:09:20.369424Z",
     "start_time": "2019-07-16T15:09:20.367426Z"
    }
   },
   "outputs": [],
   "source": [
    "def prob_1(word):\n",
    "    return words_count[word] / len(TOKEN)"
   ]
  },
  {
   "cell_type": "code",
   "execution_count": 43,
   "metadata": {
    "ExecuteTime": {
     "end_time": "2019-07-16T15:10:51.417384Z",
     "start_time": "2019-07-16T15:10:51.414368Z"
    }
   },
   "outputs": [
    {
     "data": {
      "text/plain": [
       "0.0007472371888150391"
      ]
     },
     "execution_count": 43,
     "metadata": {},
     "output_type": "execute_result"
    }
   ],
   "source": [
    "prob_1('我们')"
   ]
  },
  {
   "cell_type": "markdown",
   "metadata": {},
   "source": [
    "## 计算2-gram"
   ]
  },
  {
   "cell_type": "code",
   "execution_count": 44,
   "metadata": {
    "ExecuteTime": {
     "end_time": "2019-07-16T17:14:12.493702Z",
     "start_time": "2019-07-16T17:14:12.436613Z"
    }
   },
   "outputs": [],
   "source": [
    "TOKEN_2_GRAM = [''.join(TOKEN[i:i+2]) for i in range(len(TOKEN[:-2]))]"
   ]
  },
  {
   "cell_type": "code",
   "execution_count": 45,
   "metadata": {
    "ExecuteTime": {
     "end_time": "2019-07-16T17:14:20.958150Z",
     "start_time": "2019-07-16T17:14:20.952150Z"
    }
   },
   "outputs": [
    {
     "data": {
      "text/plain": [
       "['法律要求', '要求残疾', '残疾保险', '保险吗', '吗债权人', '债权人可以', '可以在', '在死', '死后', '后人寿保险']"
      ]
     },
     "execution_count": 45,
     "metadata": {},
     "output_type": "execute_result"
    }
   ],
   "source": [
    "TOKEN_2_GRAM[:10]"
   ]
  },
  {
   "cell_type": "code",
   "execution_count": 46,
   "metadata": {
    "ExecuteTime": {
     "end_time": "2019-07-16T17:15:00.571424Z",
     "start_time": "2019-07-16T17:15:00.559429Z"
    }
   },
   "outputs": [],
   "source": [
    "words_count_2 = Counter(TOKEN_2_GRAM)"
   ]
  },
  {
   "cell_type": "code",
   "execution_count": 47,
   "metadata": {
    "ExecuteTime": {
     "end_time": "2019-07-16T17:15:01.492496Z",
     "start_time": "2019-07-16T17:15:01.487497Z"
    }
   },
   "outputs": [],
   "source": [
    "def prob_2(word1, word2):\n",
    "    if word1 + word2 in words_count_2: return words_count_2[word1+word2] / len(TOKEN_2_GRAM)\n",
    "    else:\n",
    "        return 1 / len(TOKEN_2_GRAM)"
   ]
  },
  {
   "cell_type": "code",
   "execution_count": 48,
   "metadata": {
    "ExecuteTime": {
     "end_time": "2019-07-16T17:15:04.396159Z",
     "start_time": "2019-07-16T17:15:04.391163Z"
    }
   },
   "outputs": [
    {
     "data": {
      "text/plain": [
       "1.310976808820252e-05"
      ]
     },
     "execution_count": 48,
     "metadata": {},
     "output_type": "execute_result"
    }
   ],
   "source": [
    "prob_2('我们', '在')"
   ]
  },
  {
   "cell_type": "markdown",
   "metadata": {},
   "source": [
    "## 句子合理性"
   ]
  },
  {
   "cell_type": "code",
   "execution_count": 49,
   "metadata": {
    "ExecuteTime": {
     "end_time": "2019-07-16T17:16:00.820135Z",
     "start_time": "2019-07-16T17:16:00.816134Z"
    }
   },
   "outputs": [],
   "source": [
    "def get_probablity(sentence):\n",
    "    words = cut(sentence)\n",
    "    \n",
    "    sentence_pro = 1\n",
    "    \n",
    "    for i, word in enumerate(words[:-1]):\n",
    "        next_ = words[i+1]\n",
    "        \n",
    "        probability = prob_2(word, next_)\n",
    "        \n",
    "        sentence_pro *= probability\n",
    "    \n",
    "    return sentence_pro"
   ]
  },
  {
   "cell_type": "code",
   "execution_count": 50,
   "metadata": {
    "ExecuteTime": {
     "end_time": "2019-07-16T17:17:06.668341Z",
     "start_time": "2019-07-16T17:17:06.655338Z"
    }
   },
   "outputs": [
    {
     "data": {
      "text/plain": [
       "3.4373203865290634e-10"
      ]
     },
     "execution_count": 50,
     "metadata": {},
     "output_type": "execute_result"
    }
   ],
   "source": [
    "get_probablity('我要买保险')"
   ]
  },
  {
   "cell_type": "code",
   "execution_count": 51,
   "metadata": {
    "ExecuteTime": {
     "end_time": "2019-07-16T17:17:34.694721Z",
     "start_time": "2019-07-16T17:17:34.687724Z"
    }
   },
   "outputs": [
    {
     "data": {
      "text/plain": [
       "2.9537928599120775e-20"
      ]
     },
     "execution_count": 51,
     "metadata": {},
     "output_type": "execute_result"
    }
   ],
   "source": [
    "get_probablity('飞插你又有')"
   ]
  },
  {
   "cell_type": "markdown",
   "metadata": {},
   "source": [
    "# 获得最优质的的语言"
   ]
  },
  {
   "cell_type": "code",
   "execution_count": null,
   "metadata": {},
   "outputs": [],
   "source": []
  }
 ],
 "metadata": {
  "kernelspec": {
   "display_name": "Python 3",
   "language": "python",
   "name": "python3"
  },
  "language_info": {
   "codemirror_mode": {
    "name": "ipython",
    "version": 3
   },
   "file_extension": ".py",
   "mimetype": "text/x-python",
   "name": "python",
   "nbconvert_exporter": "python",
   "pygments_lexer": "ipython3",
   "version": "3.7.3"
  },
  "toc": {
   "base_numbering": 1,
   "nav_menu": {},
   "number_sections": true,
   "sideBar": true,
   "skip_h1_title": false,
   "title_cell": "Table of Contents",
   "title_sidebar": "Contents",
   "toc_cell": false,
   "toc_position": {
    "height": "calc(100% - 180px)",
    "left": "10px",
    "top": "150px",
    "width": "326.26px"
   },
   "toc_section_display": true,
   "toc_window_display": true
  },
  "varInspector": {
   "cols": {
    "lenName": 16,
    "lenType": 16,
    "lenVar": 40
   },
   "kernels_config": {
    "python": {
     "delete_cmd_postfix": "",
     "delete_cmd_prefix": "del ",
     "library": "var_list.py",
     "varRefreshCmd": "print(var_dic_list())"
    },
    "r": {
     "delete_cmd_postfix": ") ",
     "delete_cmd_prefix": "rm(",
     "library": "var_list.r",
     "varRefreshCmd": "cat(var_dic_list()) "
    }
   },
   "position": {
    "height": "274.656px",
    "left": "914px",
    "right": "20px",
    "top": "113px",
    "width": "459.99px"
   },
   "types_to_exclude": [
    "module",
    "function",
    "builtin_function_or_method",
    "instance",
    "_Feature"
   ],
   "window_display": false
  }
 },
 "nbformat": 4,
 "nbformat_minor": 2
}
