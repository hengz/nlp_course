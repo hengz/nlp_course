{
 "cells": [
  {
   "cell_type": "markdown",
   "metadata": {},
   "source": [
    "## 1. 设计句子生成器"
   ]
  },
  {
   "cell_type": "markdown",
   "metadata": {},
   "source": [
    "#### 语法一：“商人”"
   ]
  },
  {
   "cell_type": "code",
   "execution_count": 8,
   "metadata": {},
   "outputs": [],
   "source": [
    "merchant = '''\n",
    "merchant = 寒暄 询问 需求 结尾\n",
    "寒暄 = 打招呼\n",
    "打招呼 = 您好 | 你好\n",
    "询问 = 请问你要 | 您需要\n",
    "需求 = 购买 商品 | 帮助\n",
    "商品 = 食品 | 衣服 | 日用品\n",
    "结尾 = 吗？\n",
    "'''"
   ]
  },
  {
   "cell_type": "markdown",
   "metadata": {},
   "source": [
    "#### 语法二：“顾客”"
   ]
  },
  {
   "cell_type": "code",
   "execution_count": null,
   "metadata": {},
   "outputs": [],
   "source": [
    "customer = '''\n",
    "customer = \n",
    "'''"
   ]
  },
  {
   "cell_type": "markdown",
   "metadata": {},
   "source": [
    "#### 句子生成"
   ]
  },
  {
   "cell_type": "code",
   "execution_count": 11,
   "metadata": {},
   "outputs": [],
   "source": [
    "def create_grammar(grammar_str):\n",
    "    grammar = {}\n",
    "    \n",
    "    for grammar_line in grammar_str.split('\\n'):\n",
    "        if not grammar_line.strip():\n",
    "            continue\n",
    "            \n",
    "        exp, stmt = grammar_line.split('=')\n",
    "        grammar[exp.strip()] = [s.split() for s in stmt.split('|')]\n",
    "\n",
    "    return grammar"
   ]
  },
  {
   "cell_type": "code",
   "execution_count": 12,
   "metadata": {},
   "outputs": [],
   "source": [
    "from random import choice\n",
    "\n",
    "def generate(gram, target):\n",
    "    if target not in gram:\n",
    "        return target\n",
    "    return ''.join([generate(gram, t) for t in choice(gram[target])])"
   ]
  },
  {
   "cell_type": "code",
   "execution_count": 13,
   "metadata": {},
   "outputs": [
    {
     "data": {
      "text/plain": [
       "{'merchant': [['寒暄', '询问', '需求', '结尾']],\n",
       " '寒暄': [['打招呼']],\n",
       " '打招呼': [['您好'], ['你好']],\n",
       " '询问': [['请问你要'], ['您需要']],\n",
       " '需求': [['购买', '商品'], ['帮助']],\n",
       " '商品': [['食品'], ['衣服'], ['日用品']],\n",
       " '结尾': [['吗？']]}"
      ]
     },
     "execution_count": 13,
     "metadata": {},
     "output_type": "execute_result"
    }
   ],
   "source": [
    "grammar = create_grammar(merchant)\n",
    "grammar"
   ]
  },
  {
   "cell_type": "code",
   "execution_count": 30,
   "metadata": {},
   "outputs": [
    {
     "data": {
      "text/plain": [
       "'您好请问你要帮助吗？'"
      ]
     },
     "execution_count": 30,
     "metadata": {},
     "output_type": "execute_result"
    }
   ],
   "source": [
    "sentence = generate(grammar, 'merchant')\n",
    "sentence"
   ]
  },
  {
   "cell_type": "markdown",
   "metadata": {},
   "source": [
    "#### 定义generate_n函数生成n个句子"
   ]
  },
  {
   "cell_type": "code",
   "execution_count": 33,
   "metadata": {},
   "outputs": [],
   "source": [
    "def generate_n(gram, target, n):\n",
    "    for i in range(0,n):\n",
    "        sentence = generate(gram, target)\n",
    "        print(sentence)"
   ]
  },
  {
   "cell_type": "code",
   "execution_count": 34,
   "metadata": {},
   "outputs": [
    {
     "name": "stdout",
     "output_type": "stream",
     "text": [
      "您好您需要帮助吗？\n",
      "你好您需要购买衣服吗？\n",
      "您好请问你要购买食品吗？\n",
      "您好您需要帮助吗？\n",
      "你好您需要购买食品吗？\n",
      "你好请问你要购买食品吗？\n",
      "您好您需要帮助吗？\n",
      "你好请问你要帮助吗？\n",
      "您好您需要购买食品吗？\n",
      "你好您需要帮助吗？\n"
     ]
    }
   ],
   "source": [
    "generate_n(grammar, 'merchant', 10)"
   ]
  },
  {
   "cell_type": "markdown",
   "metadata": {},
   "source": [
    "## 2. 使用新数据源完成语言模型的训练"
   ]
  },
  {
   "cell_type": "code",
   "execution_count": null,
   "metadata": {},
   "outputs": [],
   "source": [
    "line = \"119 ++$++ life-insurance ++$++ 定期人寿保险在特定年龄结束吗？ ++$++ Does  Term  Life  Insurance  End  At  A  Certain  Age?\"\n",
    "line.split('++$++')"
   ]
  },
  {
   "cell_type": "code",
   "execution_count": null,
   "metadata": {},
   "outputs": [],
   "source": [
    "with open('train.txt') as raw_text:\n",
    "    line = raw_text.readline()\n",
    "    line.split('++$++')"
   ]
  },
  {
   "cell_type": "code",
   "execution_count": null,
   "metadata": {},
   "outputs": [],
   "source": [
    "def prob_2(word1, word2):\n",
    "    if word1 + word2 in words_count_2: return words_count_2[word1+word2] / len(TOKEN_2_GRAM)\n",
    "    else:\n",
    "        return 1 / len(TOKEN_2_GRAM)"
   ]
  }
 ],
 "metadata": {
  "kernelspec": {
   "display_name": "Python 3",
   "language": "python",
   "name": "python3"
  },
  "language_info": {
   "codemirror_mode": {
    "name": "ipython",
    "version": 3
   },
   "file_extension": ".py",
   "mimetype": "text/x-python",
   "name": "python",
   "nbconvert_exporter": "python",
   "pygments_lexer": "ipython3",
   "version": "3.6.8"
  }
 },
 "nbformat": 4,
 "nbformat_minor": 2
}
